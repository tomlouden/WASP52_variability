{
 "cells": [
  {
   "cell_type": "markdown",
   "metadata": {},
   "source": [
    "# Measuring sphot"
   ]
  },
  {
   "cell_type": "markdown",
   "metadata": {},
   "source": [
    "According to Dave sphot is essentially the standard deviation in a region 5x the rotation period.\n",
    "\n",
    "my measured rotation period according to the wavelets is ~ 17 days"
   ]
  },
  {
   "cell_type": "code",
   "execution_count": 7,
   "metadata": {
    "collapsed": false
   },
   "outputs": [
    {
     "name": "stdout",
     "output_type": "stream",
     "text": [
      "The autoreload extension is already loaded. To reload it, use:\n",
      "  %reload_ext autoreload\n"
     ]
    }
   ],
   "source": [
    "%load_ext autoreload\n",
    "%autoreload 1\n",
    "\n",
    "%aimport WASP_lc.load_lc\n",
    "lc = WASP_lc.load_lc\n",
    "\n",
    "%aimport WASP_lc.waveletrun\n",
    "wr = WASP_lc.waveletrun\n",
    "\n",
    "%aimport WASP_lc.combine_data\n",
    "cd = WASP_lc.combine_data\n",
    "\n",
    "%aimport WASP_lc.autocorrelation\n",
    "ac = WASP_lc.autocorrelation\n",
    "\n",
    "%aimport WASP_lc.util\n",
    "ut = WASP_lc.util\n",
    "\n",
    "%aimport WASP_lc.plot_wavelets\n",
    "pw = WASP_lc.plot_wavelets\n"
   ]
  },
  {
   "cell_type": "code",
   "execution_count": 6,
   "metadata": {
    "collapsed": false
   },
   "outputs": [],
   "source": [
    "fname = '1SWASPJ231358.76+084540.6_WASP52B_100_ORKP_TAMTFA.lc'\n",
    "wasp_dict = lc.load_wasp_lc('lightcurves/'+fname)\n",
    "\n",
    "HJD = wasp_dict['HJD']\n",
    "mag = wasp_dict['mag']\n",
    "err = wasp_dict['err']"
   ]
  },
  {
   "cell_type": "code",
   "execution_count": 11,
   "metadata": {
    "collapsed": false
   },
   "outputs": [
    {
     "ename": "NameError",
     "evalue": "name 'first' is not defined",
     "output_type": "error",
     "traceback": [
      "\u001b[1;31m---------------------------------------------------------------------------\u001b[0m",
      "\u001b[1;31mNameError\u001b[0m                                 Traceback (most recent call last)",
      "\u001b[1;32m<ipython-input-11-f638720ed955>\u001b[0m in \u001b[0;36m<module>\u001b[1;34m()\u001b[0m\n\u001b[0;32m      1\u001b[0m \u001b[0mperiod\u001b[0m \u001b[1;33m=\u001b[0m \u001b[1;36m17.0\u001b[0m\u001b[1;33m\u001b[0m\u001b[0m\n\u001b[0;32m      2\u001b[0m \u001b[0mdt\u001b[0m \u001b[1;33m=\u001b[0m \u001b[0mperiod\u001b[0m\u001b[1;33m*\u001b[0m\u001b[1;36m5\u001b[0m\u001b[1;33m\u001b[0m\u001b[0m\n\u001b[1;32m----> 3\u001b[1;33m \u001b[0mut\u001b[0m\u001b[1;33m.\u001b[0m\u001b[0mtime_binning\u001b[0m\u001b[1;33m(\u001b[0m\u001b[0mmag\u001b[0m\u001b[1;33m,\u001b[0m\u001b[0merr\u001b[0m\u001b[1;33m,\u001b[0m\u001b[0mHJD\u001b[0m\u001b[1;33m,\u001b[0m\u001b[0mdt\u001b[0m\u001b[1;33m,\u001b[0m\u001b[1;33m[\u001b[0m\u001b[0mfirst\u001b[0m\u001b[1;33m,\u001b[0m\u001b[0mlast\u001b[0m\u001b[1;33m]\u001b[0m\u001b[1;33m)\u001b[0m\u001b[1;33m\u001b[0m\u001b[0m\n\u001b[0m",
      "\u001b[1;31mNameError\u001b[0m: name 'first' is not defined"
     ]
    }
   ],
   "source": [
    "last = \n",
    "period = 17.0\n",
    "dt = period*5\n",
    "first = min(HJD) - dt\n",
    "last = max(HJD) + dt\n",
    "ut.time_binning(mag,err,HJD,dt,[first,last])"
   ]
  },
  {
   "cell_type": "code",
   "execution_count": null,
   "metadata": {
    "collapsed": true
   },
   "outputs": [],
   "source": []
  }
 ],
 "metadata": {
  "kernelspec": {
   "display_name": "Python 2",
   "language": "python",
   "name": "python2"
  },
  "language_info": {
   "codemirror_mode": {
    "name": "ipython",
    "version": 2
   },
   "file_extension": ".py",
   "mimetype": "text/x-python",
   "name": "python",
   "nbconvert_exporter": "python",
   "pygments_lexer": "ipython2",
   "version": "2.7.10"
  }
 },
 "nbformat": 4,
 "nbformat_minor": 0
}
